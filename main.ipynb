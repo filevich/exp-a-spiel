{
 "cells": [
  {
   "cell_type": "code",
   "execution_count": 1,
   "metadata": {},
   "outputs": [
    {
     "name": "stdout",
     "output_type": "stream",
     "text": [
      "[1723568901.903|>INFO] [traverser.cpp:197] discovering infosets (num threads: 16)...\n",
      "[1723568906.846|>INFO] [traverser.cpp:215]   > thread 66 found 0.18M infosets\n",
      "[1723568906.854|>INFO] [traverser.cpp:215]   > thread 56 found 0.18M infosets\n",
      "[1723568907.273|>INFO] [traverser.cpp:215]   > thread 76 found 0.18M infosets\n",
      "[1723568907.402|>INFO] [traverser.cpp:215]   > thread 11 found 0.19M infosets\n",
      "[1723568907.431|>INFO] [traverser.cpp:215]   > thread 21 found 0.20M infosets\n",
      "[1723568907.502|>INFO] [traverser.cpp:215]   > thread 36 found 0.20M infosets\n",
      "[1723568907.546|>INFO] [traverser.cpp:215]   > thread 41 found 0.20M infosets\n",
      "[1723568907.860|>INFO] [traverser.cpp:215]   > thread 16 found 0.20M infosets\n",
      "[1723568908.209|>INFO] [traverser.cpp:215]   > thread 06 found 0.20M infosets\n",
      "[1723568908.302|>INFO] [traverser.cpp:215]   > thread 51 found 0.21M infosets\n",
      "[1723568908.376|>INFO] [traverser.cpp:215]   > thread 31 found 0.21M infosets\n",
      "[1723568908.446|>INFO] [traverser.cpp:215]   > thread 26 found 0.22M infosets\n",
      "[1723568908.540|>INFO] [traverser.cpp:215]   > thread 61 found 0.23M infosets\n",
      "[1723568908.826|>INFO] [traverser.cpp:215]   > thread 46 found 0.22M infosets\n",
      "[1723568909.029|>INFO] [traverser.cpp:215]   > thread 71 found 0.24M infosets\n",
      "[1723568911.273|>INFO] [traverser.cpp:215]   > thread 00 found 0.55M infosets\n",
      "[1723568912.186|>INFO] [traverser.cpp:215]   > thread 67 found 0.18M infosets\n",
      "[1723568912.311|>INFO] [traverser.cpp:215]   > thread 57 found 0.19M infosets\n",
      "[1723568913.419|>INFO] [traverser.cpp:215]   > thread 12 found 0.20M infosets\n",
      "[1723568913.869|>INFO] [traverser.cpp:215]   > thread 22 found 0.21M infosets\n",
      "[1723568913.919|>INFO] [traverser.cpp:215]   > thread 17 found 0.21M infosets\n",
      "[1723568914.025|>INFO] [traverser.cpp:215]   > thread 37 found 0.21M infosets\n",
      "[1723568914.076|>INFO] [traverser.cpp:215]   > thread 42 found 0.21M infosets\n",
      "[1723568914.198|>INFO] [traverser.cpp:215]   > thread 77 found 0.21M infosets\n",
      "[1723568914.470|>INFO] [traverser.cpp:215]   > thread 32 found 0.21M infosets\n",
      "[1723568915.143|>INFO] [traverser.cpp:215]   > thread 07 found 0.22M infosets\n",
      "[1723568915.163|>INFO] [traverser.cpp:215]   > thread 47 found 0.20M infosets\n",
      "[1723568915.210|>INFO] [traverser.cpp:215]   > thread 62 found 0.23M infosets\n",
      "[1723568916.162|>INFO] [traverser.cpp:215]   > thread 72 found 0.23M infosets\n",
      "[1723568916.303|>INFO] [traverser.cpp:215]   > thread 52 found 0.25M infosets\n",
      "[1723568916.508|>INFO] [traverser.cpp:215]   > thread 27 found 0.25M infosets\n",
      "[1723568918.223|>INFO] [traverser.cpp:215]   > thread 68 found 0.20M infosets\n",
      "[1723568918.762|>INFO] [traverser.cpp:215]   > thread 13 found 0.18M infosets\n",
      "[1723568918.786|>INFO] [traverser.cpp:215]   > thread 58 found 0.21M infosets\n",
      "[1723568919.301|>INFO] [traverser.cpp:215]   > thread 23 found 0.19M infosets\n",
      "[1723568919.577|>INFO] [traverser.cpp:215]   > thread 01 found 0.25M infosets\n",
      "[1723568920.541|>INFO] [traverser.cpp:215]   > thread 38 found 0.21M infosets\n",
      "[1723568920.600|>INFO] [traverser.cpp:215]   > thread 43 found 0.21M infosets\n",
      "[1723568920.600|>INFO] [traverser.cpp:215]   > thread 18 found 0.23M infosets\n",
      "[1723568920.623|>INFO] [traverser.cpp:215]   > thread 78 found 0.20M infosets\n",
      "[1723568920.793|>INFO] [traverser.cpp:215]   > thread 33 found 0.20M infosets\n",
      "[1723568921.219|>INFO] [traverser.cpp:215]   > thread 48 found 0.21M infosets\n",
      "[1723568921.254|>INFO] [traverser.cpp:215]   > thread 63 found 0.21M infosets\n",
      "[1723568922.232|>INFO] [traverser.cpp:215]   > thread 08 found 0.23M infosets\n",
      "[1723568923.101|>INFO] [traverser.cpp:215]   > thread 73 found 0.22M infosets\n",
      "[1723568923.701|>INFO] [traverser.cpp:215]   > thread 14 found 0.18M infosets\n",
      "[1723568923.745|>INFO] [traverser.cpp:215]   > thread 69 found 0.19M infosets\n",
      "[1723568924.218|>INFO] [traverser.cpp:215]   > thread 24 found 0.18M infosets\n",
      "[1723568924.301|>INFO] [traverser.cpp:215]   > thread 53 found 0.25M infosets\n",
      "[1723568924.353|>INFO] [traverser.cpp:215]   > thread 59 found 0.20M infosets\n",
      "[1723568924.541|>INFO] [traverser.cpp:215]   > thread 28 found 0.25M infosets\n",
      "[1723568926.126|>INFO] [traverser.cpp:215]   > thread 02 found 0.20M infosets\n",
      "[1723568926.151|>INFO] [traverser.cpp:215]   > thread 39 found 0.20M infosets\n",
      "[1723568926.238|>INFO] [traverser.cpp:215]   > thread 44 found 0.20M infosets\n",
      "[1723568927.228|>INFO] [traverser.cpp:215]   > thread 64 found 0.20M infosets\n",
      "[1723568927.295|>INFO] [traverser.cpp:215]   > thread 19 found 0.23M infosets\n",
      "[1723568927.655|>INFO] [traverser.cpp:215]   > thread 49 found 0.21M infosets\n",
      "[1723568927.768|>INFO] [traverser.cpp:215]   > thread 34 found 0.22M infosets\n",
      "[1723568928.664|>INFO] [traverser.cpp:215]   > thread 79 found 0.25M infosets\n",
      "[1723568929.060|>INFO] [traverser.cpp:215]   > thread 15 found 0.18M infosets\n",
      "[1723568929.376|>INFO] [traverser.cpp:215]   > thread 09 found 0.24M infosets\n",
      "[1723568929.474|>INFO] [traverser.cpp:215]   > thread 74 found 0.20M infosets\n",
      "[1723568930.717|>INFO] [traverser.cpp:215]   > thread 25 found 0.22M infosets\n",
      "[1723568930.856|>INFO] [traverser.cpp:215]   > thread 54 found 0.22M infosets\n",
      "[1723568931.037|>INFO] [traverser.cpp:215]   > thread 29 found 0.21M infosets\n",
      "[1723568931.906|>INFO] [traverser.cpp:215]   > thread 60 found 0.47M infosets\n",
      "[1723568932.487|>INFO] [traverser.cpp:215]   > thread 45 found 0.24M infosets\n",
      "[1723568932.585|>INFO] [traverser.cpp:215]   > thread 65 found 0.18M infosets\n",
      "[1723568932.936|>INFO] [traverser.cpp:215]   > thread 03 found 0.21M infosets\n",
      "[1723568933.203|>INFO] [traverser.cpp:215]   > thread 70 found 0.55M infosets\n",
      "[1723568933.743|>INFO] [traverser.cpp:215]   > thread 40 found 0.47M infosets\n",
      "[1723568934.491|>INFO] [traverser.cpp:215]   > thread 20 found 0.47M infosets\n",
      "[1723568934.808|>INFO] [traverser.cpp:215]   > thread 35 found 0.24M infosets\n",
      "[1723568935.064|>INFO] [traverser.cpp:215]   > thread 50 found 0.48M infosets\n",
      "[1723568935.222|>INFO] [traverser.cpp:215]   > thread 75 found 0.20M infosets\n",
      "[1723568935.405|>INFO] [traverser.cpp:215]   > thread 55 found 0.22M infosets\n",
      "[1723568936.223|>INFO] [traverser.cpp:215]   > thread 80 found 0.55M infosets\n",
      "[1723568936.559|>INFO] [traverser.cpp:215]   > thread 04 found 0.18M infosets\n",
      "[1723568937.127|>INFO] [traverser.cpp:215]   > thread 30 found 0.48M infosets\n",
      "[1723568937.278|>INFO] [traverser.cpp:215]   > thread 10 found 0.55M infosets\n",
      "[1723568940.327|>INFO] [traverser.cpp:215]   > thread 05 found 0.20M infosets\n",
      "[1723568940.339|>INFO] [traverser.cpp:226] ... discovery terminated. Found 6.07M infosets\n",
      "[1723568940.383|>INFO] [traverser.cpp:265] sorting infoset and assigning indices for player 2...\n",
      "[1723568940.437|>INFO] [traverser.cpp:265] sorting infoset and assigning indices for player 1...\n",
      "[1723568941.438|>INFO] [traverser.cpp:294] ... all done.\n"
     ]
    }
   ],
   "source": [
    "import dh3\n",
    "t = dh3.Traverser()  # This takes roughly 55s on my machine.\n"
   ]
  },
  {
   "cell_type": "code",
   "execution_count": 2,
   "metadata": {},
   "outputs": [],
   "source": [
    "(x, y) = t.construct_uniform_strategies()\n",
    "assert(x.shape == (3720850, 9))"
   ]
  },
  {
   "cell_type": "code",
   "execution_count": 3,
   "metadata": {
    "vscode": {
     "languageId": "perl"
    }
   },
   "outputs": [
    {
     "name": "stdout",
     "output_type": "stream",
     "text": [
      "[1723568941.930|>INFO] [traverser.cpp:353] begin exploitability computation...\n",
      "[1723568941.930|>INFO] [traverser.cpp:299] begin gradient computation (num threads: 16)...\n",
      "[1723568951.412|>INFO] [traverser.cpp:335]   > 10/81 threads returned\n",
      "[1723568958.799|>INFO] [traverser.cpp:335]   > 20/81 threads returned\n",
      "[1723568962.278|>INFO] [traverser.cpp:335]   > 30/81 threads returned\n",
      "[1723568968.288|>INFO] [traverser.cpp:335]   > 40/81 threads returned\n",
      "[1723568973.133|>INFO] [traverser.cpp:335]   > 50/81 threads returned\n",
      "[1723568979.436|>INFO] [traverser.cpp:335]   > 60/81 threads returned\n",
      "[1723568985.423|>INFO] [traverser.cpp:335]   > 70/81 threads returned\n",
      "[1723568991.265|>INFO] [traverser.cpp:335]   > 80/81 threads returned\n",
      "[1723568994.230|>INFO] [traverser.cpp:340] ... aggregating thread buffers...\n",
      "[1723568994.370|>INFO] [traverser.cpp:348] ... all done.\n",
      "[1723568994.370|>INFO] [traverser.cpp:356] computing expected value...\n",
      "[1723568994.398|>INFO] [traverser.cpp:377] computing exploitabilities...\n",
      "[1723568994.421|>INFO] [traverser.cpp:383] ... all done. (ev0 = 0.328602, expl = 0.671400, 1.161407)\n"
     ]
    }
   ],
   "source": [
    "\n",
    "ret = t.ev_and_exploitability(x, y)   # This takes roughly 75s on my machine."
   ]
  },
  {
   "cell_type": "code",
   "execution_count": null,
   "metadata": {},
   "outputs": [],
   "source": []
  }
 ],
 "metadata": {
  "kernelspec": {
   "display_name": "default",
   "language": "python",
   "name": "python3"
  },
  "language_info": {
   "codemirror_mode": {
    "name": "ipython",
    "version": 3
   },
   "file_extension": ".py",
   "mimetype": "text/x-python",
   "name": "python",
   "nbconvert_exporter": "python",
   "pygments_lexer": "ipython3",
   "version": "3.12.5"
  }
 },
 "nbformat": 4,
 "nbformat_minor": 2
}
